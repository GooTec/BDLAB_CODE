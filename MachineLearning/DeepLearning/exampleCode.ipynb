{
 "cells": [
  {
   "cell_type": "code",
   "execution_count": 1,
   "metadata": {
    "collapsed": true
   },
   "outputs": [],
   "source": [
    "import pandas as pd\n",
    "import tensorflow as tf\n",
    "import lib.dataProcess as dp\n",
    "import lib.deepLearning as dl"
   ]
  },
  {
   "cell_type": "code",
   "execution_count": 2,
   "metadata": {},
   "outputs": [],
   "source": [
    "raw_data = pd.read_csv('./GEO_input_ensemble_CV_500.csv')"
   ]
  },
  {
   "cell_type": "code",
   "execution_count": 3,
   "metadata": {},
   "outputs": [],
   "source": [
    "shuffled_data = raw_data\n",
    "shuffled_data['index'] = dp.shuffle_index(shuffled_data)"
   ]
  },
  {
   "cell_type": "code",
   "execution_count": 4,
   "metadata": {},
   "outputs": [],
   "source": [
    "fivefold = dp.n_fold(raw_data, 'index', 5)"
   ]
  },
  {
   "cell_type": "code",
   "execution_count": 5,
   "metadata": {},
   "outputs": [
    {
     "name": "stdout",
     "output_type": "stream",
     "text": [
      "Number of Class : 2\n",
      "Number of Class : 2\n"
     ]
    }
   ],
   "source": [
    "xdata_five, ydata_five = dp.divide_xy_train(fivefold, 'result', True, 1, -3)\n",
    "train_x, test_x = dp.train_test(xdata_five, 0)\n",
    "train_y, test_y = dp.train_test(ydata_five, 0)\n",
    "train_y = dp.one_hot_encoder(train_y)\n",
    "test_y = dp.one_hot_encoder(test_y)\n",
    "val_x, test_x = dp.test_validation(test_x)\n",
    "val_y, test_y = dp.test_validation(test_y)"
   ]
  },
  {
   "cell_type": "code",
   "execution_count": 6,
   "metadata": {},
   "outputs": [],
   "source": [
    "nodes = [200,100, 50]\n",
    "learning_rate = 0.001\n",
    "batch_size = 100\n",
    "\n",
    "X, Y, layers, logits, phase, hypothesis, cost, train, predicted, correct_prediction, accuracy, keep_prob = dl.set_model_dropout(train_x, train_y, nodes , learning_rate)\n",
    "\n"
   ]
  },
  {
   "cell_type": "code",
   "execution_count": 7,
   "metadata": {},
   "outputs": [
    {
     "name": "stdout",
     "output_type": "stream",
     "text": [
      "train acc :  0.850555 validation acc :  0.854586 train_cost 0.325528\n",
      "train acc :  0.990891 validation acc :  0.957494 train_cost 0.0183502\n",
      "Learning Finished!! \n",
      "\n",
      "Training Accuracy :  0.984913 Validation Accuracy :  0.966443\n",
      "INFO:tensorflow:Restoring parameters from ./model0.ckpt\n",
      "\n",
      "Test Accuracy:  0.966518\n"
     ]
    }
   ],
   "source": [
    "\n",
    "best_train_acc = 0\n",
    "best_val_acc = 0\n",
    "best_test_acc = 0 \n",
    "best_cost = float(\"inf\")\n",
    "save_path_dir ='./'\n",
    "count = 0\n",
    "model_num = 0\n",
    "\n",
    "saver = tf.train.Saver()\n",
    "with tf.Session() as sess:\n",
    "    # Initialize TensorFlow variables\n",
    "    sess.run(tf.global_variables_initializer())\n",
    "    stop_switch = True\n",
    "    step = 0\n",
    "\n",
    "    while stop_switch:\n",
    "        total_num = int(len(train_x) / batch_size)\n",
    "        for k in range(total_num):\n",
    "            batch_x = train_x[k * batch_size:(k + 1) * batch_size]\n",
    "            batch_y = train_y[k * batch_size:(k + 1) * batch_size]\n",
    "            sess.run(train, feed_dict={X: batch_x, Y: batch_y, keep_prob: 0.5 , phase:True})\n",
    "\n",
    "\n",
    "        train_h, train_c, train_p, train_a = sess.run( [hypothesis, cost, predicted, accuracy], feed_dict={X: train_x, Y: train_y, keep_prob: 1 , phase:False})\n",
    "        val_h, val_c, val_p, val_a = sess.run([hypothesis, cost, predicted, accuracy], feed_dict={X: val_x, Y: val_y, keep_prob: 1 , phase:False})\n",
    "        if step % 20 == 0 :\n",
    "            print(\"train acc : \", train_a, \"validation acc : \", val_a, \"train_cost\", train_c)\n",
    "        step += 1\n",
    "\n",
    "        if best_cost > val_c :\n",
    "            best_train_acc = train_a\n",
    "            best_val_acc = val_a\n",
    "            best_cost = val_c\n",
    "            count = 0\n",
    "            save_path = saver.save(sess, save_path_dir + 'model'+str(model_num)+'.ckpt')\n",
    "\n",
    "        elif count > 10 :\n",
    "            stop_switch = False\n",
    "            print(\"Learning Finished!! \\n\")\n",
    "        else:\n",
    "            count += 1\n",
    "\n",
    "    print(\"Training Accuracy : \", best_train_acc,  \"Validation Accuracy : \", best_val_acc)\n",
    "\n",
    "    saver.restore(sess, save_path)\n",
    "\n",
    "    test_h, test_p, test_a = sess.run([hypothesis, predicted, accuracy],\n",
    "                                      feed_dict={X: test_x, Y: test_y, keep_prob:1.0 , phase:False})\n",
    "    print(\"\\nTest Accuracy: \", test_a)\n",
    "    best_test_acc = test_a\n",
    "\n",
    "\n",
    "    model_num += 1                    \n",
    "    "
   ]
  },
  {
   "cell_type": "code",
   "execution_count": 7,
   "metadata": {},
   "outputs": [],
   "source": [
    "data_x, data_y = dp.divide_xy_test(raw_data, 'result', 1,-3)\n",
    "ids = raw_data['patient']"
   ]
  },
  {
   "cell_type": "code",
   "execution_count": 8,
   "metadata": {},
   "outputs": [
    {
     "name": "stdout",
     "output_type": "stream",
     "text": [
      "INFO:tensorflow:Restoring parameters from ./model0.ckpt\n",
      "Number of Class : 2\n"
     ]
    }
   ],
   "source": [
    "saver = tf.train.Saver()\n",
    "with tf.Session() as sess:\n",
    "    saver.restore(sess, './model0.ckpt')\n",
    "    test_h, test_p = sess.run([hypothesis, predicted], feed_dict={X: data_x, Y: dp.one_hot_encoder(data_y), keep_prob:1.0 , phase:False})"
   ]
  },
  {
   "cell_type": "code",
   "execution_count": 9,
   "metadata": {},
   "outputs": [],
   "source": [
    "dp.prediction_probability(test_h, test_p, data_y, ids)"
   ]
  },
  {
   "cell_type": "code",
   "execution_count": 12,
   "metadata": {},
   "outputs": [
    {
     "data": {
      "text/plain": [
       "4408"
      ]
     },
     "execution_count": 12,
     "metadata": {},
     "output_type": "execute_result"
    }
   ],
   "source": [
    "len(test_h)"
   ]
  },
  {
   "cell_type": "code",
   "execution_count": 13,
   "metadata": {},
   "outputs": [
    {
     "data": {
      "text/plain": [
       "4408"
      ]
     },
     "execution_count": 13,
     "metadata": {},
     "output_type": "execute_result"
    }
   ],
   "source": [
    "len(data_y)"
   ]
  },
  {
   "cell_type": "code",
   "execution_count": 15,
   "metadata": {},
   "outputs": [
    {
     "data": {
      "text/plain": [
       "4408"
      ]
     },
     "execution_count": 15,
     "metadata": {},
     "output_type": "execute_result"
    }
   ],
   "source": [
    "len(ids)"
   ]
  },
  {
   "cell_type": "code",
   "execution_count": 17,
   "metadata": {},
   "outputs": [
    {
     "data": {
      "text/plain": [
       "4408"
      ]
     },
     "execution_count": 17,
     "metadata": {},
     "output_type": "execute_result"
    }
   ],
   "source": [
    "len(test_p)"
   ]
  },
  {
   "cell_type": "code",
   "execution_count": 18,
   "metadata": {},
   "outputs": [
    {
     "data": {
      "text/plain": [
       "array([0, 1, 1, ..., 1, 1, 1])"
      ]
     },
     "execution_count": 18,
     "metadata": {},
     "output_type": "execute_result"
    }
   ],
   "source": [
    "test_p"
   ]
  },
  {
   "cell_type": "code",
   "execution_count": 19,
   "metadata": {},
   "outputs": [
    {
     "data": {
      "text/plain": [
       "array([[  9.78414536e-01,   2.15854533e-02],\n",
       "       [  1.48151221e-03,   9.98518527e-01],\n",
       "       [  1.59435826e-10,   1.00000000e+00],\n",
       "       ..., \n",
       "       [  9.48166323e-10,   1.00000000e+00],\n",
       "       [  3.21645871e-06,   9.99996781e-01],\n",
       "       [  2.25224676e-06,   9.99997735e-01]], dtype=float32)"
      ]
     },
     "execution_count": 19,
     "metadata": {},
     "output_type": "execute_result"
    }
   ],
   "source": [
    "test_h"
   ]
  },
  {
   "cell_type": "code",
   "execution_count": null,
   "metadata": {
    "collapsed": true
   },
   "outputs": [],
   "source": []
  }
 ],
 "metadata": {
  "kernelspec": {
   "display_name": "Python 3",
   "language": "python",
   "name": "python3"
  },
  "language_info": {
   "codemirror_mode": {
    "name": "ipython",
    "version": 3
   },
   "file_extension": ".py",
   "mimetype": "text/x-python",
   "name": "python",
   "nbconvert_exporter": "python",
   "pygments_lexer": "ipython3",
   "version": "3.6.1"
  }
 },
 "nbformat": 4,
 "nbformat_minor": 2
}
